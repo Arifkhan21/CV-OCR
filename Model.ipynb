{
 "cells": [
  {
   "cell_type": "code",
   "execution_count": 1,
   "metadata": {},
   "outputs": [],
   "source": [
    "from google.cloud import vision\n",
    "import os"
   ]
  },
  {
   "cell_type": "code",
   "execution_count": 2,
   "metadata": {},
   "outputs": [],
   "source": [
    "os.environ[\"GOOGLE_APPLICATION_CREDENTIALS\"]=\"creds.json\""
   ]
  },
  {
   "cell_type": "code",
   "execution_count": 3,
   "metadata": {},
   "outputs": [],
   "source": [
    "client = vision.ImageAnnotatorClient()"
   ]
  },
  {
   "cell_type": "code",
   "execution_count": 5,
   "metadata": {},
   "outputs": [],
   "source": [
    "import cv2\n",
    "import matplotlib.pyplot as plt\n",
    "import numpy as np"
   ]
  },
  {
   "cell_type": "code",
   "execution_count": 27,
   "metadata": {},
   "outputs": [],
   "source": [
    "import io\n",
    "\n",
    "path = './Vin_number_internship/DSCN8976.JPG'\n",
    "with io.open(path, 'rb') as image_file:\n",
    "        content = image_file.read()\n",
    "image_data = cv2.imread(path)\n",
    "# plt.imshow(image_data)"
   ]
  },
  {
   "cell_type": "markdown",
   "metadata": {},
   "source": [
    "## Manual Preprocessing"
   ]
  },
  {
   "cell_type": "code",
   "execution_count": 16,
   "metadata": {},
   "outputs": [],
   "source": [
    "rectKernel = cv2.getStructuringElement(cv2.MORPH_RECT, (9, 3))\n",
    "sqKernel = cv2.getStructuringElement(cv2.MORPH_RECT, (5, 5))"
   ]
  },
  {
   "cell_type": "code",
   "execution_count": 17,
   "metadata": {},
   "outputs": [
    {
     "data": {
      "image/png": "[encoded data removed]",
      "text/plain": [
       "<Figure size 432x288 with 1 Axes>"
      ]
     },
     "metadata": {
      "needs_background": "light"
     },
     "output_type": "display_data"
    }
   ],
   "source": [
    "# gray = cv2.cvtColor(image_data, cv2.COLOR_RGB2GRAY)\n",
    "# sobel = cv2.Sobel(gray,ddepth=cv2.CV_32F, dx=dy=0)\n",
    "# tophat = cv2.morphologyEx(gray, cv2.MORPH_TOPHAT, rectKernel)\n",
    "# plt.imshow(gray)\n",
    "# print(image_data.shape)\n",
    "# print(gray.shape)\n",
    "# tophat=tophat.tobytes()\n",
    "# # sobel = sobel.tobytes()\n",
    "\n",
    "\n",
    "im_gray = cv2.imread(path, cv2.IMREAD_GRAYSCALE)\n",
    "(thresh, im_bw) = cv2.threshold(im_gray, 128, 255, cv2.THRESH_BINARY | cv2.THRESH_OTSU)\n",
    "thresh = 127\n",
    "im_bw = cv2.threshold(im_gray, thresh, 255, cv2.THRESH_BINARY)[1]\n",
    "plt.imshow(im_bw)\n",
    "image = cv2.imencode('.jpg',im_bw)[1].tostring()"
   ]
  },
  {
   "cell_type": "markdown",
   "metadata": {},
   "source": [
    "~Creating Google Vision API Object for Image~"
   ]
  },
  {
   "cell_type": "code",
   "execution_count": 28,
   "metadata": {},
   "outputs": [],
   "source": [
    "im_object = vision.types.Image(content = content)"
   ]
  },
  {
   "cell_type": "markdown",
   "metadata": {},
   "source": [
    "~Fetching Response from the API"
   ]
  },
  {
   "cell_type": "code",
   "execution_count": 29,
   "metadata": {},
   "outputs": [],
   "source": [
    "response = client.text_detection(image=im_object)\n",
    "texts = response.text_annotations"
   ]
  },
  {
   "cell_type": "code",
   "execution_count": null,
   "metadata": {},
   "outputs": [],
   "source": []
  },
  {
   "cell_type": "code",
   "execution_count": null,
   "metadata": {},
   "outputs": [],
   "source": []
  },
  {
   "cell_type": "code",
   "execution_count": 30,
   "metadata": {},
   "outputs": [
    {
     "name": "stdout",
     "output_type": "stream",
     "text": [
      "\n",
      "\"GENERAL MOTORS INDIA PVT LTD\n",
      "Perm, axle wt. front\n",
      "Gros Vehicle h. 1519 KG\n",
      "Mfg, Month &Year\n",
      "Perm. axle wt. rear\n",
      "715 KG\n",
      "LE\n",
      "Engine Number 1 0FCU 2143820121 il 335976\n",
      "Seq. No.\n",
      "VIN\n",
      "12.01 2017 12 42\n",
      "\"\n",
      "\n",
      "\"GENERAL\"\n",
      "\n",
      "\"MOTORS\"\n",
      "\n",
      "\"INDIA\"\n",
      "\n",
      "\"PVT\"\n",
      "\n",
      "\"LTD\"\n",
      "\n",
      "\"Perm,\"\n",
      "\n",
      "\"axle\"\n",
      "\n",
      "\"wt.\"\n",
      "\n",
      "\"front\"\n",
      "\n",
      "\"Gros\"\n",
      "\n",
      "\"Vehicle\"\n",
      "\n",
      "\"h.\"\n",
      "\n",
      "\"1519\"\n",
      "\n",
      "\"KG\"\n",
      "\n",
      "\"Mfg,\"\n",
      "\n",
      "\"Month\"\n",
      "\n",
      "\"&Year\"\n",
      "\n",
      "\"Perm.\"\n",
      "\n",
      "\"axle\"\n",
      "\n",
      "\"wt.\"\n",
      "\n",
      "\"rear\"\n",
      "\n",
      "\"715\"\n",
      "\n",
      "\"KG\"\n",
      "\n",
      "\"LE\"\n",
      "\n",
      "\"Engine\"\n",
      "\n",
      "\"Number\"\n",
      "\n",
      "\"1\"\n",
      "\n",
      "\"0FCU\"\n",
      "\n",
      "\"2143820121\"\n",
      "\n",
      "\"il\"\n",
      "\n",
      "\"335976\"\n",
      "\n",
      "\"Seq.\"\n",
      "\n",
      "\"No.\"\n",
      "\n",
      "\"VIN\"\n",
      "\n",
      "\"12.01\"\n",
      "\n",
      "\"2017\"\n",
      "\n",
      "\"12\"\n",
      "\n",
      "\"42\"\n"
     ]
    }
   ],
   "source": [
    "save_text = []\n",
    "for text in texts:\n",
    "        print('\\n\"{}\"'.format(text.description))\n",
    "        save_text.append(text.description)\n",
    "        vertices = (['({},{})'.format(vertex.x, vertex.y)\n",
    "                    for vertex in text.bounding_poly.vertices])\n",
    "\n",
    "#         print('bounds: {}'.format(','.join(vertices)))"
   ]
  },
  {
   "cell_type": "code",
   "execution_count": 24,
   "metadata": {},
   "outputs": [],
   "source": [
    "def count_alpha_n_digs(text):\n",
    "    dig_count = 0\n",
    "    alpha_count = 0\n",
    "    for char in text:\n",
    "        if char.isalpha():\n",
    "            alpha_count = alpha_count+1\n",
    "        if char.isdigit():\n",
    "            dig_count = dig_count+1\n",
    "    \n",
    "    return dig_count,alpha_count"
   ]
  },
  {
   "cell_type": "markdown",
   "metadata": {},
   "source": [
    "~Since Images are too noisy and result from OCR may generate spaces between VIN, therefore using bruteforce instead of regex for detecting favourble VIN text and not going for only 17 char length alphanumeric word.~"
   ]
  },
  {
   "cell_type": "code",
   "execution_count": 25,
   "metadata": {},
   "outputs": [],
   "source": [
    "possibles_matches = []\n",
    "for ix in range(1,len(save_text)):\n",
    "    tmp = save_text[ix]\n",
    "    digs,alps = count_alpha_n_digs(tmp)\n",
    "    if len(tmp) >= 17:\n",
    "        if digs >0 and alps >0:\n",
    "            possibles_matches=[]\n",
    "            possibles_matches.append({'Text':tmp,'digits':digs,'alphas':digs})\n",
    "            print('VIN : '+tmp)\n",
    "            break\n",
    "    if digs+alps > 5 and digs!=0 and alps!=0:\n",
    "        possibles_matches.append({'Text':tmp,'digits':digs,'alpha':alps})\n",
    "    \n",
    "    "
   ]
  },
  {
   "cell_type": "code",
   "execution_count": 26,
   "metadata": {},
   "outputs": [
    {
     "name": "stdout",
     "output_type": "stream",
     "text": [
      "Possible Matches \n",
      "DE1SO0444089\n"
     ]
    }
   ],
   "source": [
    "print('Possible Matches ')\n",
    "for match in possibles_matches:\n",
    "    \n",
    "    print(match['Text'])"
   ]
  },
  {
   "cell_type": "code",
   "execution_count": 18,
   "metadata": {},
   "outputs": [
    {
     "data": {
      "text/plain": [
       "3"
      ]
     },
     "execution_count": 18,
     "metadata": {},
     "output_type": "execute_result"
    }
   ],
   "source": [
    "len(possibles_matches)"
   ]
  },
  {
   "cell_type": "code",
   "execution_count": null,
   "metadata": {},
   "outputs": [],
   "source": []
  }
 ],
 "metadata": {
  "kernelspec": {
   "display_name": "Python 3",
   "language": "python",
   "name": "python3"
  },
  "language_info": {
   "codemirror_mode": {
    "name": "ipython",
    "version": 3
   },
   "file_extension": ".py",
   "mimetype": "text/x-python",
   "name": "python",
   "nbconvert_exporter": "python",
   "pygments_lexer": "ipython3",
   "version": "3.5.2"
  }
 },
 "nbformat": 4,
 "nbformat_minor": 2
}
